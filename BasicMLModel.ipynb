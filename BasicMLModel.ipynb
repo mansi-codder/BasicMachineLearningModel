{
 "cells": [
  {
   "cell_type": "code",
   "execution_count": null,
   "id": "98097127-7cf0-4b7b-8244-f24b475e0beb",
   "metadata": {},
   "outputs": [],
   "source": [
    "import pandas as pd\n",
    "!pip install wget\n",
    "import wget\n",
    "url = 'https://raw.githubusercontent.com/MicrosoftDocs/mslearn-introduction-to-machine-learning/main/Data/doggy-boot-harness.csv'\n",
    "filename = wget.download(url)\n"
   ]
  },
  {
   "cell_type": "code",
   "execution_count": 6,
   "id": "f4a01f82-dea9-4138-95a1-1f3489a881a3",
   "metadata": {},
   "outputs": [
    {
     "data": {
      "text/html": [
       "<div>\n",
       "<style scoped>\n",
       "    .dataframe tbody tr th:only-of-type {\n",
       "        vertical-align: middle;\n",
       "    }\n",
       "\n",
       "    .dataframe tbody tr th {\n",
       "        vertical-align: top;\n",
       "    }\n",
       "\n",
       "    .dataframe thead th {\n",
       "        text-align: right;\n",
       "    }\n",
       "</style>\n",
       "<table border=\"1\" class=\"dataframe\">\n",
       "  <thead>\n",
       "    <tr style=\"text-align: right;\">\n",
       "      <th></th>\n",
       "      <th>boot_size</th>\n",
       "      <th>harness_size</th>\n",
       "      <th>sex</th>\n",
       "      <th>age_years</th>\n",
       "    </tr>\n",
       "  </thead>\n",
       "  <tbody>\n",
       "    <tr>\n",
       "      <th>0</th>\n",
       "      <td>39</td>\n",
       "      <td>58</td>\n",
       "      <td>male</td>\n",
       "      <td>12.0</td>\n",
       "    </tr>\n",
       "    <tr>\n",
       "      <th>1</th>\n",
       "      <td>38</td>\n",
       "      <td>58</td>\n",
       "      <td>male</td>\n",
       "      <td>9.6</td>\n",
       "    </tr>\n",
       "    <tr>\n",
       "      <th>2</th>\n",
       "      <td>37</td>\n",
       "      <td>52</td>\n",
       "      <td>female</td>\n",
       "      <td>8.6</td>\n",
       "    </tr>\n",
       "    <tr>\n",
       "      <th>3</th>\n",
       "      <td>39</td>\n",
       "      <td>58</td>\n",
       "      <td>male</td>\n",
       "      <td>10.2</td>\n",
       "    </tr>\n",
       "    <tr>\n",
       "      <th>4</th>\n",
       "      <td>38</td>\n",
       "      <td>57</td>\n",
       "      <td>male</td>\n",
       "      <td>7.8</td>\n",
       "    </tr>\n",
       "  </tbody>\n",
       "</table>\n",
       "</div>"
      ],
      "text/plain": [
       "   boot_size  harness_size     sex  age_years\n",
       "0         39            58    male       12.0\n",
       "1         38            58    male        9.6\n",
       "2         37            52  female        8.6\n",
       "3         39            58    male       10.2\n",
       "4         38            57    male        7.8"
      ]
     },
     "execution_count": 6,
     "metadata": {},
     "output_type": "execute_result"
    }
   ],
   "source": [
    "df_boot_harness = pd.read_csv(filename,delimiter=',',header='infer')\n",
    "df_boot_harness.head()"
   ]
  },
  {
   "cell_type": "code",
   "execution_count": 7,
   "id": "a012f562-4217-4102-9575-33e9ba4d05db",
   "metadata": {},
   "outputs": [
    {
     "name": "stdout",
     "output_type": "stream",
     "text": [
      "Model trained!\n"
     ]
    }
   ],
   "source": [
    "\n",
    "import statsmodels.formula.api as smf\n",
    "\n",
    "# Fit a simple model that finds a linear relationship\n",
    "# between boot size and harness size, which we can use later\n",
    "# to predict a dog's boot size, given their harness size\n",
    "model = smf.ols(formula = \"boot_size ~ harness_size\", data = df_boot_harness).fit()\n",
    "\n",
    "print(\"Model trained!\")\n"
   ]
  },
  {
   "cell_type": "code",
   "execution_count": 8,
   "id": "3d646e2f-9f00-475d-86b9-093778bf044d",
   "metadata": {},
   "outputs": [
    {
     "data": {
      "text/plain": [
       "<statsmodels.regression.linear_model.RegressionResultsWrapper at 0x20b7fde9b90>"
      ]
     },
     "execution_count": 8,
     "metadata": {},
     "output_type": "execute_result"
    }
   ],
   "source": [
    "model"
   ]
  },
  {
   "cell_type": "code",
   "execution_count": 9,
   "id": "20c62f8a-638c-4502-ba8e-bd22a4703bf8",
   "metadata": {},
   "outputs": [
    {
     "data": {
      "text/plain": [
       "Intercept       5.719110\n",
       "harness_size    0.585925\n",
       "dtype: float64"
      ]
     },
     "execution_count": 9,
     "metadata": {},
     "output_type": "execute_result"
    }
   ],
   "source": [
    "model.params"
   ]
  },
  {
   "cell_type": "code",
   "execution_count": 10,
   "id": "55a36fe6-e5bc-4603-8f94-4858f9d993e1",
   "metadata": {},
   "outputs": [
    {
     "name": "stdout",
     "output_type": "stream",
     "text": [
      "Model saved!\n"
     ]
    }
   ],
   "source": [
    "import joblib\n",
    "\n",
    "model_filename = './dog_boot_model.pkl'\n",
    "joblib.dump(model, model_filename)\n",
    "\n",
    "print(\"Model saved!\")"
   ]
  },
  {
   "cell_type": "code",
   "execution_count": 12,
   "id": "6db79b99-dd5f-4850-a2ce-bd61c80ccfbb",
   "metadata": {},
   "outputs": [
    {
     "name": "stdout",
     "output_type": "stream",
     "text": [
      "We have loaded a model with the following parameters:\n",
      "Intercept       5.719110\n",
      "harness_size    0.585925\n",
      "dtype: float64\n"
     ]
    }
   ],
   "source": [
    "model_loaded = joblib.load(model_filename)\n",
    "\n",
    "print(\"We have loaded a model with the following parameters:\")\n",
    "print(model_loaded.params)"
   ]
  },
  {
   "cell_type": "code",
   "execution_count": 18,
   "id": "72fa2b7d-b005-4b4d-9300-d19022c65d20",
   "metadata": {},
   "outputs": [],
   "source": [
    " # Prepare data for the model\n",
    "harness_size=45\n",
    "inputs = {\"harness_size\":[harness_size]} \n",
    "\n",
    "    # Use the model to make a prediction\n",
    "predicted_boot_size = model_loaded.predict(inputs)[0]"
   ]
  },
  {
   "cell_type": "code",
   "execution_count": 21,
   "id": "3f1b2add-de74-49ac-b16d-1887524d89c5",
   "metadata": {},
   "outputs": [
    {
     "name": "stdout",
     "output_type": "stream",
     "text": [
      "Predicted dog boot size: 32\n"
     ]
    }
   ],
   "source": [
    "predicted_boot_size = int(round(predicted_boot_size))\n",
    "print(\"Predicted dog boot size:\", predicted_boot_size)"
   ]
  },
  {
   "cell_type": "code",
   "execution_count": 25,
   "id": "d3c67530-f02e-40a9-b165-c401211dd9fe",
   "metadata": {},
   "outputs": [
    {
     "name": "stdout",
     "output_type": "stream",
     "text": [
      "The boots you have selected might be TOO SMALL for a dog as big as yours. We recommend a doggy boots size of 32.\n"
     ]
    }
   ],
   "source": [
    "# Case 1: Here assume that selected_boot_size = 31\n",
    "selected_boot_size=31\n",
    "if selected_boot_size < predicted_boot_size:\n",
    "        # Selected boots might be too small \n",
    "        print( \"The boots you have selected might be TOO SMALL for a dog as \"\\\n",
    "               f\"big as yours. We recommend a doggy boots size of {predicted_boot_size}.\")"
   ]
  },
  {
   "cell_type": "code",
   "execution_count": 29,
   "id": "7f552ea2-78a0-4281-85f4-dcbec55ebbb2",
   "metadata": {},
   "outputs": [
    {
     "name": "stdout",
     "output_type": "stream",
     "text": [
      "The boots you have selected might be TOO BIG for a dog as small as yours. We recommend a doggy boots size of 32.\n"
     ]
    }
   ],
   "source": [
    "\n",
    "# Case 2: Here assume that selected_boot_size = 32\n",
    "selected_boot_size=33\n",
    "if selected_boot_size > predicted_boot_size:\n",
    "        # Selected boots might be too big \n",
    "        print( \"The boots you have selected might be TOO BIG for a dog as \"\\\n",
    "               f\"small as yours. We recommend a doggy boots size of {predicted_boot_size}.\")"
   ]
  },
  {
   "cell_type": "code",
   "execution_count": null,
   "id": "8a838436-b06f-45f7-b877-76274806f6a1",
   "metadata": {},
   "outputs": [],
   "source": []
  }
 ],
 "metadata": {
  "kernelspec": {
   "display_name": "Python 3 (ipykernel)",
   "language": "python",
   "name": "python3"
  },
  "language_info": {
   "codemirror_mode": {
    "name": "ipython",
    "version": 3
   },
   "file_extension": ".py",
   "mimetype": "text/x-python",
   "name": "python",
   "nbconvert_exporter": "python",
   "pygments_lexer": "ipython3",
   "version": "3.11.0"
  }
 },
 "nbformat": 4,
 "nbformat_minor": 5
}
